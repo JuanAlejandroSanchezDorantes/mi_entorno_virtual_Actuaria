{
 "cells": [
  {
   "cell_type": "markdown",
   "metadata": {},
   "source": [
    "# Dependencias"
   ]
  },
  {
   "cell_type": "code",
   "execution_count": 1,
   "metadata": {},
   "outputs": [],
   "source": [
    "import pymysql\n",
    "import pandas as pd\n"
   ]
  },
  {
   "cell_type": "markdown",
   "metadata": {},
   "source": [
    "# Lectura de Datos"
   ]
  },
  {
   "cell_type": "code",
   "execution_count": 2,
   "metadata": {},
   "outputs": [
    {
     "name": "stdout",
     "output_type": "stream",
     "text": [
      "Forma del primer archivo: (74243, 19)\n",
      "  ARREST_KEY ARREST_DATE PD_CD                         PD_DESC KY_CD  \\\n",
      "0  223473319  01/23/2021   681      CHILD, ENDANGERING WELFARE   233   \n",
      "1  226680195  04/08/2021   511  CONTROLLED SUBSTANCE, POSSESSI   235   \n",
      "\n",
      "         OFNS_DESC    LAW_CODE LAW_CAT_CD ARREST_BORO ARREST_PRECINCT  \\\n",
      "0       SEX CRIMES  PL 2601001          M           K              68   \n",
      "1  DANGEROUS DRUGS  PL 2200300          M           B              52   \n",
      "\n",
      "  JURISDICTION_CODE AGE_GROUP PERP_SEX       PERP_RACE X_COORD_CD Y_COORD_CD  \\\n",
      "0                 0     45-64        F           WHITE     978016     172087   \n",
      "1                 0     25-44        M  WHITE HISPANIC    1014199     254214   \n",
      "\n",
      "            Latitude           Longitude  \\\n",
      "0  40.63902167200007       -74.022463524   \n",
      "1  40.86439080300004  -73.89172478099994   \n",
      "\n",
      "                       New Georeferenced Column  \n",
      "0       POINT (-74.022463524 40.63902167200007)  \n",
      "1  POINT (-73.89172478099994 40.86439080300004)  \n",
      "\n",
      "Forma del segundo archivo: (100000, 19)\n",
      "  ARREST_KEY ARREST_DATE PD_CD                                     PD_DESC  \\\n",
      "0  142423673  04/25/2015   848      NY STATE LAWS,UNCLASSIFIED MISDEMEANOR   \n",
      "1  186994526  08/29/2018   339  LARCENY,PETIT FROM OPEN AREAS,UNCLASSIFIED   \n",
      "\n",
      "  KY_CD                         OFNS_DESC    LAW_CODE LAW_CAT_CD ARREST_BORO  \\\n",
      "0   364  OTHER STATE LAWS (NON PENAL LAW)  LOC00000AM          M           K   \n",
      "1   341                     PETIT LARCENY  PL 1552500          M           M   \n",
      "\n",
      "  ARREST_PRECINCT JURISDICTION_CODE AGE_GROUP PERP_SEX PERP_RACE X_COORD_CD  \\\n",
      "0              73                 0     25-44        M     BLACK  1008474.0   \n",
      "1              13                 0     18-24        F     BLACK     987103   \n",
      "\n",
      "  Y_COORD_CD            Latitude           Longitude  \\\n",
      "0   180470.0  40.662000251000045  -73.91268848499993   \n",
      "1     207735   40.73686899300003  -73.98970654599998   \n",
      "\n",
      "                                         Lon_Lat  \n",
      "0  POINT (-73.91268848499993 40.662000251000045)  \n",
      "1   POINT (-73.98970654599998 40.73686899300003)  \n"
     ]
    }
   ],
   "source": [
    "def sample_data(ruta):\n",
    "    data = pd.read_csv(ruta, dtype=str)\n",
    "    sample_size = min(len(data), 100000)\n",
    "    sampled_data = data.sample(sample_size).reset_index(drop=True)\n",
    "    return sampled_data\n",
    "\n",
    "# Primera ruta\n",
    "ruta1 = '/Users/alejandrosanchez/Downloads/nyc_arrests/NYPD_Arrest_Data__Year_to_Date_.csv'\n",
    "data1_sampled = sample_data(ruta1)\n",
    "print(\"Forma del primer archivo:\", data1_sampled.shape)\n",
    "print(data1_sampled.head(2))\n",
    "\n",
    "# Segunda ruta\n",
    "ruta2 = '/Users/alejandrosanchez/Downloads/nyc_arrests/NYPD_Arrests_Data__Historic_.csv'\n",
    "data2_sampled = sample_data(ruta2)\n",
    "print(\"\\nForma del segundo archivo:\", data2_sampled.shape)\n",
    "print(data2_sampled.head(2))\n",
    "\n"
   ]
  },
  {
   "cell_type": "markdown",
   "metadata": {},
   "source": [
    "# Conexión a Base de Datos"
   ]
  },
  {
   "cell_type": "code",
   "execution_count": 3,
   "metadata": {},
   "outputs": [],
   "source": [
    "# Conexión a la BD\n",
    "connection = pymysql.connect(host='localhost',\n",
    "                             user='root',\n",
    "                             password='BAJXQ829112002',\n",
    "                             db='Actuaria_2')"
   ]
  }
 ],
 "metadata": {
  "kernelspec": {
   "display_name": "mi_entorno_virtual_Actuaria",
   "language": "python",
   "name": "python3"
  },
  "language_info": {
   "codemirror_mode": {
    "name": "ipython",
    "version": 3
   },
   "file_extension": ".py",
   "mimetype": "text/x-python",
   "name": "python",
   "nbconvert_exporter": "python",
   "pygments_lexer": "ipython3",
   "version": "3.11.3"
  }
 },
 "nbformat": 4,
 "nbformat_minor": 2
}
