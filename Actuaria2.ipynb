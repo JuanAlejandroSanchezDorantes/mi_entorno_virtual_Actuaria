{
 "cells": [
  {
   "cell_type": "markdown",
   "metadata": {},
   "source": [
    "# Dependencias"
   ]
  },
  {
   "cell_type": "code",
   "execution_count": 1,
   "metadata": {},
   "outputs": [],
   "source": [
    "import pymysql\n",
    "import pandas as pd\n",
    "import os\n"
   ]
  },
  {
   "cell_type": "markdown",
   "metadata": {},
   "source": [
    "# Lectura de Datos"
   ]
  },
  {
   "cell_type": "code",
   "execution_count": 2,
   "metadata": {},
   "outputs": [
    {
     "name": "stdout",
     "output_type": "stream",
     "text": [
      "Forma del primer archivo: (74243, 19)\n",
      "  ARREST_KEY ARREST_DATE PD_CD                                    PD_DESC  \\\n",
      "0  229438953  06/11/2021   397             ROBBERY,OPEN AREA UNCLASSIFIED   \n",
      "1  225634345  03/15/2021   439  LARCENY,GRAND FROM OPEN AREAS, UNATTENDED   \n",
      "\n",
      "  KY_CD      OFNS_DESC    LAW_CODE LAW_CAT_CD ARREST_BORO ARREST_PRECINCT  \\\n",
      "0   105        ROBBERY  PL 1600500          F           S             121   \n",
      "1   109  GRAND LARCENY  PL 1553001          F           B              44   \n",
      "\n",
      "  JURISDICTION_CODE AGE_GROUP PERP_SEX PERP_RACE X_COORD_CD Y_COORD_CD  \\\n",
      "0                 0       <18        M     BLACK     946145     171314   \n",
      "1                 0     18-24        M     BLACK    1006537     244511   \n",
      "\n",
      "            Latitude           Longitude  \\\n",
      "0  40.63682017700007  -74.13729526799993   \n",
      "1  40.83778161800007  -73.91945797099999   \n",
      "\n",
      "                       New Georeferenced Column  \n",
      "0  POINT (-74.13729526799993 40.63682017700007)  \n",
      "1  POINT (-73.91945797099999 40.83778161800007)  \n",
      "\n",
      "Forma del segundo archivo: (100000, 19)\n",
      "  ARREST_KEY ARREST_DATE PD_CD                          PD_DESC KY_CD  \\\n",
      "0   10517688  02/27/2006   969  TRAFFIC,UNCLASSIFIED INFRACTION   881   \n",
      "1  167101802  07/16/2017   175                 SEXUAL ABUSE 3,2   233   \n",
      "\n",
      "                  OFNS_DESC    LAW_CODE LAW_CAT_CD ARREST_BORO  \\\n",
      "0  OTHER TRAFFIC INFRACTION  VTL051101A          M           Q   \n",
      "1         FORCIBLE TOUCHING  PL 1305200          M           K   \n",
      "\n",
      "  ARREST_PRECINCT JURISDICTION_CODE AGE_GROUP PERP_SEX  \\\n",
      "0             102                 0     25-44        F   \n",
      "1              77                 0     45-64        M   \n",
      "\n",
      "                  PERP_RACE X_COORD_CD Y_COORD_CD           Latitude  \\\n",
      "0            WHITE HISPANIC  1022152.0   186812.0  40.67935962000007   \n",
      "1  ASIAN / PACIFIC ISLANDER  1003606.0   185050.0  40.67458330800008   \n",
      "\n",
      "            Longitude                                       Lon_Lat  \n",
      "0  -73.86335192499998  POINT (-73.86335192499998 40.67935962000007)  \n",
      "1  -73.93022154099998  POINT (-73.93022154099998 40.67458330800008)  \n"
     ]
    }
   ],
   "source": [
    "def sample_data(ruta):\n",
    "    data = pd.read_csv(ruta, dtype=str)\n",
    "    sample_size = min(len(data), 100000)\n",
    "    sampled_data = data.sample(sample_size).reset_index(drop=True)\n",
    "    return sampled_data\n",
    "\n",
    "# Primera ruta\n",
    "ruta1 = '/Users/alejandrosanchez/Downloads/nyc_arrests/NYPD_Arrest_Data__Year_to_Date_.csv'\n",
    "data1_sampled = sample_data(ruta1)\n",
    "print(\"Forma del primer archivo:\", data1_sampled.shape)\n",
    "print(data1_sampled.head(2))\n",
    "\n",
    "# Segunda ruta\n",
    "ruta2 = '/Users/alejandrosanchez/Downloads/nyc_arrests/NYPD_Arrests_Data__Historic_.csv'\n",
    "data2_sampled = sample_data(ruta2)\n",
    "print(\"\\nForma del segundo archivo:\", data2_sampled.shape)\n",
    "print(data2_sampled.head(2))\n",
    "\n"
   ]
  },
  {
   "cell_type": "markdown",
   "metadata": {},
   "source": [
    "# Conexión a Base de Datos"
   ]
  },
  {
   "cell_type": "code",
   "execution_count": 16,
   "metadata": {},
   "outputs": [
    {
     "name": "stdout",
     "output_type": "stream",
     "text": [
      "Password from env: None\n"
     ]
    }
   ],
   "source": [
    "# Obtener la contraseña desde las variables de entorno\n",
    "db_password = os.environ.get('$DB_PASSWORD')\n",
    "print(f\"Password from env: {db_password}\")\n"
   ]
  },
  {
   "cell_type": "code",
   "execution_count": 8,
   "metadata": {},
   "outputs": [
    {
     "ename": "OperationalError",
     "evalue": "(1045, \"Access denied for user 'root'@'localhost' (using password: NO)\")",
     "output_type": "error",
     "traceback": [
      "\u001b[0;31m---------------------------------------------------------------------------\u001b[0m",
      "\u001b[0;31mOperationalError\u001b[0m                          Traceback (most recent call last)",
      "\u001b[1;32m/Users/alejandrosanchez/mi_entorno_virtual_Actuaria/Actuaria2.ipynb Celda 6\u001b[0m line \u001b[0;36m5\n\u001b[1;32m      <a href='vscode-notebook-cell:/Users/alejandrosanchez/mi_entorno_virtual_Actuaria/Actuaria2.ipynb#W5sZmlsZQ%3D%3D?line=1'>2</a>\u001b[0m db_password \u001b[39m=\u001b[39m os\u001b[39m.\u001b[39menviron\u001b[39m.\u001b[39mget(\u001b[39m'\u001b[39m\u001b[39mDB_PASSWORD\u001b[39m\u001b[39m'\u001b[39m)\n\u001b[1;32m      <a href='vscode-notebook-cell:/Users/alejandrosanchez/mi_entorno_virtual_Actuaria/Actuaria2.ipynb#W5sZmlsZQ%3D%3D?line=3'>4</a>\u001b[0m \u001b[39m# Usar la contraseña en la conexión\u001b[39;00m\n\u001b[0;32m----> <a href='vscode-notebook-cell:/Users/alejandrosanchez/mi_entorno_virtual_Actuaria/Actuaria2.ipynb#W5sZmlsZQ%3D%3D?line=4'>5</a>\u001b[0m connection \u001b[39m=\u001b[39m pymysql\u001b[39m.\u001b[39;49mconnect(host\u001b[39m=\u001b[39;49m\u001b[39m'\u001b[39;49m\u001b[39mlocalhost\u001b[39;49m\u001b[39m'\u001b[39;49m,\n\u001b[1;32m      <a href='vscode-notebook-cell:/Users/alejandrosanchez/mi_entorno_virtual_Actuaria/Actuaria2.ipynb#W5sZmlsZQ%3D%3D?line=5'>6</a>\u001b[0m                              user\u001b[39m=\u001b[39;49m\u001b[39m'\u001b[39;49m\u001b[39mroot\u001b[39;49m\u001b[39m'\u001b[39;49m,\n\u001b[1;32m      <a href='vscode-notebook-cell:/Users/alejandrosanchez/mi_entorno_virtual_Actuaria/Actuaria2.ipynb#W5sZmlsZQ%3D%3D?line=6'>7</a>\u001b[0m                              password\u001b[39m=\u001b[39;49mdb_password,\n\u001b[1;32m      <a href='vscode-notebook-cell:/Users/alejandrosanchez/mi_entorno_virtual_Actuaria/Actuaria2.ipynb#W5sZmlsZQ%3D%3D?line=7'>8</a>\u001b[0m                              db\u001b[39m=\u001b[39;49m\u001b[39m'\u001b[39;49m\u001b[39mActuaria_2\u001b[39;49m\u001b[39m'\u001b[39;49m)\n",
      "File \u001b[0;32m~/mi_entorno_virtual_Actuaria/lib/python3.11/site-packages/pymysql/connections.py:358\u001b[0m, in \u001b[0;36mConnection.__init__\u001b[0;34m(self, user, password, host, database, unix_socket, port, charset, collation, sql_mode, read_default_file, conv, use_unicode, client_flag, cursorclass, init_command, connect_timeout, read_default_group, autocommit, local_infile, max_allowed_packet, defer_connect, auth_plugin_map, read_timeout, write_timeout, bind_address, binary_prefix, program_name, server_public_key, ssl, ssl_ca, ssl_cert, ssl_disabled, ssl_key, ssl_verify_cert, ssl_verify_identity, compress, named_pipe, passwd, db)\u001b[0m\n\u001b[1;32m    356\u001b[0m     \u001b[39mself\u001b[39m\u001b[39m.\u001b[39m_sock \u001b[39m=\u001b[39m \u001b[39mNone\u001b[39;00m\n\u001b[1;32m    357\u001b[0m \u001b[39melse\u001b[39;00m:\n\u001b[0;32m--> 358\u001b[0m     \u001b[39mself\u001b[39;49m\u001b[39m.\u001b[39;49mconnect()\n",
      "File \u001b[0;32m~/mi_entorno_virtual_Actuaria/lib/python3.11/site-packages/pymysql/connections.py:664\u001b[0m, in \u001b[0;36mConnection.connect\u001b[0;34m(self, sock)\u001b[0m\n\u001b[1;32m    661\u001b[0m \u001b[39mself\u001b[39m\u001b[39m.\u001b[39m_next_seq_id \u001b[39m=\u001b[39m \u001b[39m0\u001b[39m\n\u001b[1;32m    663\u001b[0m \u001b[39mself\u001b[39m\u001b[39m.\u001b[39m_get_server_information()\n\u001b[0;32m--> 664\u001b[0m \u001b[39mself\u001b[39;49m\u001b[39m.\u001b[39;49m_request_authentication()\n\u001b[1;32m    666\u001b[0m \u001b[39m# Send \"SET NAMES\" query on init for:\u001b[39;00m\n\u001b[1;32m    667\u001b[0m \u001b[39m# - Ensure charaset (and collation) is set to the server.\u001b[39;00m\n\u001b[1;32m    668\u001b[0m \u001b[39m#   - collation_id in handshake packet may be ignored.\u001b[39;00m\n\u001b[0;32m   (...)\u001b[0m\n\u001b[1;32m    677\u001b[0m \u001b[39m# - https://github.com/wagtail/wagtail/issues/9477\u001b[39;00m\n\u001b[1;32m    678\u001b[0m \u001b[39m# - https://zenn.dev/methane/articles/2023-mysql-collation (Japanese)\u001b[39;00m\n\u001b[1;32m    679\u001b[0m \u001b[39mself\u001b[39m\u001b[39m.\u001b[39mset_character_set(\u001b[39mself\u001b[39m\u001b[39m.\u001b[39mcharset, \u001b[39mself\u001b[39m\u001b[39m.\u001b[39mcollation)\n",
      "File \u001b[0;32m~/mi_entorno_virtual_Actuaria/lib/python3.11/site-packages/pymysql/connections.py:954\u001b[0m, in \u001b[0;36mConnection._request_authentication\u001b[0;34m(self)\u001b[0m\n\u001b[1;32m    951\u001b[0m     data \u001b[39m+\u001b[39m\u001b[39m=\u001b[39m _lenenc_int(\u001b[39mlen\u001b[39m(connect_attrs)) \u001b[39m+\u001b[39m connect_attrs\n\u001b[1;32m    953\u001b[0m \u001b[39mself\u001b[39m\u001b[39m.\u001b[39mwrite_packet(data)\n\u001b[0;32m--> 954\u001b[0m auth_packet \u001b[39m=\u001b[39m \u001b[39mself\u001b[39;49m\u001b[39m.\u001b[39;49m_read_packet()\n\u001b[1;32m    956\u001b[0m \u001b[39m# if authentication method isn't accepted the first byte\u001b[39;00m\n\u001b[1;32m    957\u001b[0m \u001b[39m# will have the octet 254\u001b[39;00m\n\u001b[1;32m    958\u001b[0m \u001b[39mif\u001b[39;00m auth_packet\u001b[39m.\u001b[39mis_auth_switch_request():\n",
      "File \u001b[0;32m~/mi_entorno_virtual_Actuaria/lib/python3.11/site-packages/pymysql/connections.py:772\u001b[0m, in \u001b[0;36mConnection._read_packet\u001b[0;34m(self, packet_type)\u001b[0m\n\u001b[1;32m    770\u001b[0m     \u001b[39mif\u001b[39;00m \u001b[39mself\u001b[39m\u001b[39m.\u001b[39m_result \u001b[39mis\u001b[39;00m \u001b[39mnot\u001b[39;00m \u001b[39mNone\u001b[39;00m \u001b[39mand\u001b[39;00m \u001b[39mself\u001b[39m\u001b[39m.\u001b[39m_result\u001b[39m.\u001b[39munbuffered_active \u001b[39mis\u001b[39;00m \u001b[39mTrue\u001b[39;00m:\n\u001b[1;32m    771\u001b[0m         \u001b[39mself\u001b[39m\u001b[39m.\u001b[39m_result\u001b[39m.\u001b[39munbuffered_active \u001b[39m=\u001b[39m \u001b[39mFalse\u001b[39;00m\n\u001b[0;32m--> 772\u001b[0m     packet\u001b[39m.\u001b[39;49mraise_for_error()\n\u001b[1;32m    773\u001b[0m \u001b[39mreturn\u001b[39;00m packet\n",
      "File \u001b[0;32m~/mi_entorno_virtual_Actuaria/lib/python3.11/site-packages/pymysql/protocol.py:221\u001b[0m, in \u001b[0;36mMysqlPacket.raise_for_error\u001b[0;34m(self)\u001b[0m\n\u001b[1;32m    219\u001b[0m \u001b[39mif\u001b[39;00m DEBUG:\n\u001b[1;32m    220\u001b[0m     \u001b[39mprint\u001b[39m(\u001b[39m\"\u001b[39m\u001b[39merrno =\u001b[39m\u001b[39m\"\u001b[39m, errno)\n\u001b[0;32m--> 221\u001b[0m err\u001b[39m.\u001b[39;49mraise_mysql_exception(\u001b[39mself\u001b[39;49m\u001b[39m.\u001b[39;49m_data)\n",
      "File \u001b[0;32m~/mi_entorno_virtual_Actuaria/lib/python3.11/site-packages/pymysql/err.py:143\u001b[0m, in \u001b[0;36mraise_mysql_exception\u001b[0;34m(data)\u001b[0m\n\u001b[1;32m    141\u001b[0m \u001b[39mif\u001b[39;00m errorclass \u001b[39mis\u001b[39;00m \u001b[39mNone\u001b[39;00m:\n\u001b[1;32m    142\u001b[0m     errorclass \u001b[39m=\u001b[39m InternalError \u001b[39mif\u001b[39;00m errno \u001b[39m<\u001b[39m \u001b[39m1000\u001b[39m \u001b[39melse\u001b[39;00m OperationalError\n\u001b[0;32m--> 143\u001b[0m \u001b[39mraise\u001b[39;00m errorclass(errno, errval)\n",
      "\u001b[0;31mOperationalError\u001b[0m: (1045, \"Access denied for user 'root'@'localhost' (using password: NO)\")"
     ]
    }
   ],
   "source": [
    "# Obtener la contraseña desde las variables de entorno\n",
    "db_password = os.environ.get('$DB_PASSWORD')\n",
    "\n",
    "# Usar la contraseña en la conexión\n",
    "connection = pymysql.connect(host='localhost',\n",
    "                             user='root',\n",
    "                             password=db_password,\n",
    "                             db='Actuaria_2')"
   ]
  }
 ],
 "metadata": {
  "kernelspec": {
   "display_name": "mi_entorno_virtual_Actuaria",
   "language": "python",
   "name": "python3"
  },
  "language_info": {
   "codemirror_mode": {
    "name": "ipython",
    "version": 3
   },
   "file_extension": ".py",
   "mimetype": "text/x-python",
   "name": "python",
   "nbconvert_exporter": "python",
   "pygments_lexer": "ipython3",
   "version": "3.11.3"
  }
 },
 "nbformat": 4,
 "nbformat_minor": 2
}
