{
 "cells": [
  {
   "cell_type": "code",
   "execution_count": 22,
   "metadata": {},
   "outputs": [],
   "source": [
    "import pandas as pd\n",
    "import numpy as np"
   ]
  },
  {
   "cell_type": "code",
   "execution_count": 23,
   "metadata": {},
   "outputs": [],
   "source": [
    "data = pd.read_excel('InsumosProyecto_Omega.xlsx')\n",
    "tabla_mortalidad = pd.read_excel('tabla_mortalidad.xlsx')['qx']"
   ]
  },
  {
   "cell_type": "code",
   "execution_count": 24,
   "metadata": {},
   "outputs": [],
   "source": [
    "def edad_asegurable(edad,sexo, status):\n",
    "    if sexo == \"F\" and status == 'NF':\n",
    "        edad -= 5\n",
    "    elif sexo==\"F\":\n",
    "        edad -= 3\n",
    "    elif status == 'NF':\n",
    "        edad -= 2\n",
    "    return edad"
   ]
  },
  {
   "cell_type": "code",
   "execution_count": 25,
   "metadata": {},
   "outputs": [],
   "source": [
    "def seguro_temporal(edad, sexo, status, tasa, SA_T, cobertura):\n",
    "    edad = edad_asegurable(edad, sexo, status)\n",
    "    k = np.array([x for x in range(cobertura)])\n",
    "    x_k = edad + k\n",
    "    q_x = np.array(tabla_mortalidad.loc[x_k[0]:x_k[-1]])\n",
    "    v_k1 = np.array([(1+tasa)**(-1-x) for x in range(cobertura)])\n",
    "    kp_x = [1]\n",
    "    for i in range(cobertura-1):\n",
    "        valor = kp_x[i] * (1-q_x[i])\n",
    "        kp_x.append(valor)\n",
    "    PNU = sum(q_x * v_k1 * kp_x) * SA_T\n",
    "    return np.round(PNU,2)"
   ]
  },
  {
   "cell_type": "code",
   "execution_count": 26,
   "metadata": {},
   "outputs": [],
   "source": [
    "def seguro_vitalicio(edad, sexo, status, tasa, SA_T):\n",
    "    omega = 110\n",
    "    edad = edad_asegurable(edad, sexo, status)\n",
    "    cobertura = omega-edad+1\n",
    "    k = np.array([x for x in range(cobertura)])\n",
    "    x_k = edad + k\n",
    "    q_x = np.array(tabla_mortalidad.loc[x_k[0]:x_k[-1]])\n",
    "    v_k1 = np.array([(1+tasa)**(-1-x) for x in range(cobertura)])\n",
    "    kp_x = [1]\n",
    "    for i in range(cobertura-1):\n",
    "        valor = kp_x[i] * (1-q_x[i])\n",
    "        kp_x.append(valor)\n",
    "    PNU = sum(q_x * v_k1 * kp_x) * SA_T\n",
    "    return np.round(PNU,2)"
   ]
  },
  {
   "cell_type": "code",
   "execution_count": 27,
   "metadata": {},
   "outputs": [],
   "source": [
    "def seguro_dotal(edad, sexo, status, tasa, SA, cobertura):\n",
    "    edad = edad_asegurable(edad, sexo, status)\n",
    "    k = np.array([x for x in range(cobertura)])\n",
    "    x_k = edad + k\n",
    "    q_x = np.array(tabla_mortalidad.loc[x_k[0]:x_k[-1]])\n",
    "    npx = np.product([1-q_x[i] for i in range(len(q_x))])\n",
    "    v_k = (1+tasa)**(-cobertura)\n",
    "    PNU = SA*v_k*npx\n",
    "    return np.round(PNU,2)"
   ]
  },
  {
   "cell_type": "code",
   "execution_count": 28,
   "metadata": {},
   "outputs": [],
   "source": [
    "def seguro_dotal_mixto(edad, sexo, status, tasa, SA_T, SA_D, cobertura):\n",
    "    s_temporal = seguro_temporal(edad, sexo, status, tasa, SA_T, cobertura)\n",
    "    s_dotal = seguro_dotal(edad, sexo, status, tasa, SA_D, cobertura)\n",
    "    PNU = s_temporal + s_dotal\n",
    "    return np.round(PNU,2)"
   ]
  },
  {
   "cell_type": "code",
   "execution_count": 29,
   "metadata": {},
   "outputs": [],
   "source": [
    "def calcular_PNU(tipo_seguro,edad, sexo, status, tasa, SA_T, SA_D, cobertura):\n",
    "    if tipo_seguro == 'T':\n",
    "        PNU = seguro_temporal(edad, sexo, status, tasa, SA_T, cobertura)\n",
    "    elif tipo_seguro == 'V':\n",
    "        PNU = seguro_vitalicio(edad, sexo, status, tasa, SA_T)\n",
    "    elif tipo_seguro == 'DM':\n",
    "        PNU = seguro_dotal_mixto(edad, sexo, status, tasa, SA_T, SA_D, cobertura)\n",
    "    return np.round(PNU,2)"
   ]
  },
  {
   "cell_type": "code",
   "execution_count": 30,
   "metadata": {},
   "outputs": [],
   "source": [
    "def anualidad(edad, sexo, status, tasa, pagos):\n",
    "    edad = edad_asegurable(edad, sexo, status)\n",
    "    k = np.array([x for x in range(pagos)])\n",
    "    x_k = edad + k\n",
    "    q_x = np.array(tabla_mortalidad.loc[x_k[0]:x_k[-1]])\n",
    "    v_k1 = np.array([(1+tasa)**(-x) for x in range(pagos)])\n",
    "    kp_x = [1]\n",
    "    for i in range(pagos-1):\n",
    "            valor = kp_x[i] * (1-q_x[i])\n",
    "            kp_x.append(valor)\n",
    "    anualidad = sum( v_k1 * kp_x) \n",
    "    return anualidad\n"
   ]
  },
  {
   "cell_type": "code",
   "execution_count": 31,
   "metadata": {},
   "outputs": [],
   "source": [
    "data['PNU'] =  data.apply(lambda x: calcular_PNU(x.PROD, x.ECON, x.SEXO, x.STATUS, x.T_P, x.SAF, x.SAD, x.COB), axis = 1)\n",
    "data['Anualidad'] = data.apply(lambda x: anualidad(x.ECON, x.SEXO, x.STATUS, x.T_P, x.PAG), axis = 1)"
   ]
  },
  {
   "cell_type": "code",
   "execution_count": 32,
   "metadata": {},
   "outputs": [],
   "source": [
    "GA = 0.12\n",
    "CA = 0.12\n",
    "U = 0.07"
   ]
  },
  {
   "cell_type": "code",
   "execution_count": 33,
   "metadata": {},
   "outputs": [],
   "source": [
    "data['PT'] = data['PNU'] / (1-GA-CA-U)\n",
    "data['PT'] = data['PT'].map(lambda x: np.round(x,2))"
   ]
  },
  {
   "cell_type": "code",
   "execution_count": 34,
   "metadata": {},
   "outputs": [],
   "source": [
    "data['PA'] = data['PT']/ data['Anualidad']\n",
    "data['PA'] = data['PA'].map(lambda x: np.round(x,2))"
   ]
  },
  {
   "cell_type": "code",
   "execution_count": 35,
   "metadata": {},
   "outputs": [],
   "source": [
    "data['Anualidad'] = data['Anualidad'].map(lambda x: np.round(x,3))"
   ]
  },
  {
   "cell_type": "code",
   "execution_count": 42,
   "metadata": {},
   "outputs": [],
   "source": [
    "data.to_csv('PRIMAS.csv', index=False)"
   ]
  }
 ],
 "metadata": {
  "kernelspec": {
   "display_name": "AnalisisMV",
   "language": "python",
   "name": "python3"
  },
  "language_info": {
   "codemirror_mode": {
    "name": "ipython",
    "version": 3
   },
   "file_extension": ".py",
   "mimetype": "text/x-python",
   "name": "python",
   "nbconvert_exporter": "python",
   "pygments_lexer": "ipython3",
   "version": "3.10.6"
  },
  "orig_nbformat": 4
 },
 "nbformat": 4,
 "nbformat_minor": 2
}
