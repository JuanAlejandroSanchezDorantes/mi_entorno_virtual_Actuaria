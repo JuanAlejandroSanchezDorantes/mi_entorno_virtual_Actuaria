{
 "cells": [
  {
   "cell_type": "code",
   "execution_count": 2,
   "metadata": {},
   "outputs": [
    {
     "ename": "ModuleNotFoundError",
     "evalue": "No module named 'scipy'",
     "output_type": "error",
     "traceback": [
      "\u001b[0;31m---------------------------------------------------------------------------\u001b[0m",
      "\u001b[0;31mModuleNotFoundError\u001b[0m                       Traceback (most recent call last)",
      "\u001b[1;32m/Users/alejandrosanchez/mi_entorno_virtual_Actuaria/Picard.ipynb Celda 1\u001b[0m line \u001b[0;36m3\n\u001b[1;32m      <a href='vscode-notebook-cell:/Users/alejandrosanchez/mi_entorno_virtual_Actuaria/Picard.ipynb#W0sZmlsZQ%3D%3D?line=0'>1</a>\u001b[0m \u001b[39mimport\u001b[39;00m \u001b[39mnumpy\u001b[39;00m \u001b[39mas\u001b[39;00m \u001b[39mnp\u001b[39;00m\n\u001b[1;32m      <a href='vscode-notebook-cell:/Users/alejandrosanchez/mi_entorno_virtual_Actuaria/Picard.ipynb#W0sZmlsZQ%3D%3D?line=1'>2</a>\u001b[0m \u001b[39mimport\u001b[39;00m \u001b[39mmatplotlib\u001b[39;00m\u001b[39m.\u001b[39;00m\u001b[39mpyplot\u001b[39;00m \u001b[39mas\u001b[39;00m \u001b[39mplt\u001b[39;00m\n\u001b[0;32m----> <a href='vscode-notebook-cell:/Users/alejandrosanchez/mi_entorno_virtual_Actuaria/Picard.ipynb#W0sZmlsZQ%3D%3D?line=2'>3</a>\u001b[0m \u001b[39mfrom\u001b[39;00m \u001b[39mscipy\u001b[39;00m\u001b[39m.\u001b[39;00m\u001b[39mintegrate\u001b[39;00m \u001b[39mimport\u001b[39;00m quad\n\u001b[1;32m      <a href='vscode-notebook-cell:/Users/alejandrosanchez/mi_entorno_virtual_Actuaria/Picard.ipynb#W0sZmlsZQ%3D%3D?line=4'>5</a>\u001b[0m \u001b[39m# Parámetros iniciales\u001b[39;00m\n\u001b[1;32m      <a href='vscode-notebook-cell:/Users/alejandrosanchez/mi_entorno_virtual_Actuaria/Picard.ipynb#W0sZmlsZQ%3D%3D?line=5'>6</a>\u001b[0m t0 \u001b[39m=\u001b[39m \u001b[39m0\u001b[39m\n",
      "\u001b[0;31mModuleNotFoundError\u001b[0m: No module named 'scipy'"
     ]
    }
   ],
   "source": [
    "import numpy as np\n",
    "import matplotlib.pyplot as plt\n",
    "from scipy.integrate import quad\n",
    "\n",
    "# Parámetros iniciales\n",
    "t0 = 0\n",
    "y0 = 1\n",
    "alpha = 0.5\n",
    "b = 1\n",
    "T = np.linspace(t0, t0 + alpha, 500)\n",
    "\n",
    "# Función f(t, y)\n",
    "def f(t, y):\n",
    "    return t * y + y ** 2\n",
    "\n",
    "# Iteración de Picard\n",
    "def picard_iteration(n, t):\n",
    "    if n == 0:\n",
    "        return y0\n",
    "    else:\n",
    "        integrand = lambda s: f(s, picard_iteration(n-1, s))\n",
    "        integral, _ = quad(integrand, t0, t)\n",
    "        return y0 + integral\n",
    "\n",
    "# Calculamos algunas iteraciones\n",
    "N = 4\n",
    "Y = np.zeros((N, len(T)))\n",
    "\n",
    "for n in range(N):\n",
    "    for i, t in enumerate(T):\n",
    "        Y[n, i] = picard_iteration(n, t)\n",
    "\n",
    "# Gráfica de las iteraciones\n",
    "plt.figure(figsize=(10, 6))\n",
    "for n in range(N):\n",
    "    plt.plot(T, Y[n], label=f\"Iteración {n}\")\n",
    "plt.title(\"Convergencia de las Iteraciones de Picard\")\n",
    "plt.xlabel(\"t\")\n",
    "plt.ylabel(\"y(t)\")\n",
    "plt.legend()\n",
    "plt.grid(True)\n",
    "plt.show()\n"
   ]
  }
 ],
 "metadata": {
  "kernelspec": {
   "display_name": "mi_entorno_virtual_Actuaria",
   "language": "python",
   "name": "python3"
  },
  "language_info": {
   "codemirror_mode": {
    "name": "ipython",
    "version": 3
   },
   "file_extension": ".py",
   "mimetype": "text/x-python",
   "name": "python",
   "nbconvert_exporter": "python",
   "pygments_lexer": "ipython3",
   "version": "3.11.3"
  }
 },
 "nbformat": 4,
 "nbformat_minor": 2
}
