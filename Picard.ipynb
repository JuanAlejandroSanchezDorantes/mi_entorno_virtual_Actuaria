{
 "cells": [
  {
   "cell_type": "code",
   "execution_count": 1,
   "metadata": {},
   "outputs": [
    {
     "data": {
      "application/vnd.jupyter.widget-view+json": {
       "model_id": "acb70d3e57294c059c8137dfc978ae74",
       "version_major": 2,
       "version_minor": 0
      },
      "text/plain": [
       "interactive(children=(FloatSlider(value=1.0, description='a', max=2.0, min=0.1), FloatSlider(value=1.0, descri…"
      ]
     },
     "execution_count": 1,
     "metadata": {},
     "output_type": "execute_result"
    }
   ],
   "source": [
    "from ipywidgets import interactive\n",
    "import numpy as np\n",
    "import matplotlib.pyplot as plt\n",
    "\n",
    "# Definición de la función y su derivada parcial respecto a y\n",
    "def f(t, y):\n",
    "    return -2 * t * y\n",
    "\n",
    "# Función para realizar la visualización con interactividad\n",
    "def interactive_plot(a=1.0, b=1.0, t0=0.0, y0=1.0):\n",
    "    # Cálculo de M y alpha\n",
    "    M = np.max(np.abs(f(np.linspace(t0, t0 + a, 100), np.linspace(y0 - b, y0 + b, 100))))\n",
    "    alpha = min(a, b / M)\n",
    "\n",
    "    # Preparación para la iteración de Picard\n",
    "    N = 100\n",
    "    T = np.linspace(t0, t0 + alpha, N)\n",
    "    Y = np.zeros(N)\n",
    "    Y[0] = y0  # Valor inicial\n",
    "\n",
    "    # Iteración de Picard\n",
    "    for n in range(1, N):\n",
    "        dt = T[n] - T[n - 1]\n",
    "        Y[n] = Y[n - 1] + f(T[n - 1], Y[n - 1]) * dt\n",
    "\n",
    "    # Visualización de la convergencia de Picard\n",
    "    plt.figure(figsize=(10, 6))\n",
    "    plt.plot(T, Y, label='Iteración de Picard')\n",
    "    plt.title('Convergencia de las Iteraciones de Picard')\n",
    "    plt.xlabel('t')\n",
    "    plt.ylabel('y(t)')\n",
    "    plt.legend()\n",
    "    plt.grid(True)\n",
    "    plt.show()\n",
    "\n",
    "    # Visualización de la región R\n",
    "    plt.figure(figsize=(10, 6))\n",
    "    plt.fill_betweenx([y0 - b, y0 + b], t0, t0 + alpha, color='lightgray', label='Región R')\n",
    "    plt.title('Región R conforme al Teorema 2\\'')\n",
    "    plt.xlabel('t')\n",
    "    plt.ylabel('y')\n",
    "    plt.legend()\n",
    "    plt.grid(True)\n",
    "    plt.show()\n",
    "\n",
    "# Widgets interactivos\n",
    "interactive_plot = interactive(interactive_plot, a=(0.1, 2.0, 0.1), b=(0.1, 2.0, 0.1), t0=(0.0, 2.0, 0.1), y0=(0.1, 2.0, 0.1))\n",
    "interactive_plot\n"
   ]
  }
 ],
 "metadata": {
  "kernelspec": {
   "display_name": "mi_entorno_virtual_Actuaria",
   "language": "python",
   "name": "python3"
  },
  "language_info": {
   "codemirror_mode": {
    "name": "ipython",
    "version": 3
   },
   "file_extension": ".py",
   "mimetype": "text/x-python",
   "name": "python",
   "nbconvert_exporter": "python",
   "pygments_lexer": "ipython3",
   "version": "3.11.3"
  }
 },
 "nbformat": 4,
 "nbformat_minor": 2
}
